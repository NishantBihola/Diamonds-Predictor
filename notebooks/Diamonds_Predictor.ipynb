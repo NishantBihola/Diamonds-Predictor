{
 "cells": [
  {
   "cell_type": "markdown",
   "id": "1ebf1ff9",
   "metadata": {},
   "source": [
    "# Diamonds Predictor Application (Capstone)\n",
    "This notebook demonstrates the full pipeline:\n",
    "- EDA & preprocessing\n",
    "- Classification (clarity)\n",
    "- Regression (price)\n",
    "- Clustering (customer segmentation)\n"
   ]
  },
  {
   "cell_type": "code",
   "execution_count": null,
   "id": "fd7b7366",
   "metadata": {
    "vscode": {
     "languageId": "plaintext"
    }
   },
   "outputs": [],
   "source": [
    "import os, sys\n",
    "sys.path.append(\"..\")  # if running from notebooks/ and package in parent\n",
    "import pandas as pd\n",
    "import numpy as np\n",
    "from diamonds.Analyzer import Analyzer\n",
    "from diamonds.Classifier import Classifier\n",
    "from diamonds.Regressor import Regressor\n",
    "from diamonds.Clustering import Clustering\n",
    "from sklearn.model_selection import train_test_split\n",
    "from sklearn.preprocessing import StandardScaler\n",
    "\n",
    "DATA_PATH = \"data/diamonds.csv\"  # adjust if different\n"
   ]
  },
  {
   "cell_type": "code",
   "execution_count": null,
   "id": "9bfdd88b",
   "metadata": {
    "vscode": {
     "languageId": "plaintext"
    }
   },
   "outputs": [],
   "source": [
    "an = Analyzer(csv_path=DATA_PATH)\n",
    "print(\"Shape:\", an.df.shape)\n",
    "an.df.head()\n"
   ]
  },
  {
   "cell_type": "code",
   "execution_count": null,
   "id": "a89676f6",
   "metadata": {
    "vscode": {
     "languageId": "plaintext"
    }
   },
   "outputs": [],
   "source": [
    "an.drop_columns([\"Unnamed: 0\"])\n",
    "an.shuffle(seed=42)\n",
    "# encode categorical features\n",
    "to_encode = [c for c in [\"cut\",\"color\",\"clarity\"] if c in an.df.columns]\n",
    "an.encode_features(to_encode)\n",
    "print(\"Encoded:\", to_encode)\n"
   ]
  },
  {
   "cell_type": "code",
   "execution_count": null,
   "id": "e9c338d9",
   "metadata": {
    "vscode": {
     "languageId": "plaintext"
    }
   },
   "outputs": [],
   "source": [
    "os.makedirs(\"outputs/plots\", exist_ok=True)\n",
    "p1 = an.plot_correlationMatrix(out_dir=\"outputs/plots\", annot=True)\n",
    "print(\"Saved correlation matrix:\", p1)\n",
    "p2 = an.plot_histograms_categorical(out_dir=\"outputs/plots\")\n",
    "print(\"Saved histograms:\", p2)\n"
   ]
  },
  {
   "cell_type": "markdown",
   "id": "d5b889b4",
   "metadata": {},
   "source": [
    "## Classification: predict `clarity`\n",
    "We will train a RandomForest classifier and evaluate accuracy and confusion matrix.\n"
   ]
  },
  {
   "cell_type": "code",
   "execution_count": null,
   "id": "fe5b14cc",
   "metadata": {
    "vscode": {
     "languageId": "plaintext"
    }
   },
   "outputs": [],
   "source": [
    "X = an.df.drop(columns=[\"clarity\"])\n",
    "y = an.df[\"clarity\"]\n",
    "X_train, X_test, y_train, y_test = train_test_split(X, y, test_size=0.2, random_state=42)\n",
    "sc = StandardScaler()\n",
    "X_train_s = sc.fit_transform(X_train)\n",
    "X_test_s = sc.transform(X_test)\n",
    "\n",
    "clf = Classifier()\n",
    "clf.fit(X_train_s, y_train, model_name=\"random_forest\")\n",
    "acc = clf.score(X_test_s, y_test, metric=\"accuracy\")\n",
    "print(\"RandomForest accuracy:\", acc)\n",
    "y_pred = clf.predict(X_test_s)\n",
    "clf.plot_confusionMatrix(y_test, y_pred, out_path=\"outputs/plots/confusion_clarity.png\")\n",
    "print(\"Confusion matrix saved.\")\n"
   ]
  },
  {
   "cell_type": "markdown",
   "id": "c139f320",
   "metadata": {},
   "source": [
    "## Regression: predict `price`\n",
    "We train a RandomForest regressor and evaluate R2 and RMSE.\n"
   ]
  },
  {
   "cell_type": "code",
   "execution_count": null,
   "id": "a13db955",
   "metadata": {
    "vscode": {
     "languageId": "plaintext"
    }
   },
   "outputs": [],
   "source": [
    "Xr = an.df.drop(columns=[\"price\"])\n",
    "yr = an.df[\"price\"].astype(float)\n",
    "Xr_train, Xr_test, yr_train, yr_test = train_test_split(Xr, yr, test_size=0.2, random_state=42)\n",
    "sc_r = StandardScaler()\n",
    "Xr_train_s = sc_r.fit_transform(Xr_train)\n",
    "Xr_test_s = sc_r.transform(Xr_test)\n",
    "\n",
    "reg = Regressor()\n",
    "reg.fit(Xr_train_s, yr_train, model_name=\"random_forest\")\n",
    "r2 = reg.score(Xr_test_s, yr_test, metric=\"r2\")\n",
    "rmse = reg.score(Xr_test_s, yr_test, metric=\"RMSE\")\n",
    "print(f\"RandomForest R2: {r2:.4f}, RMSE: {rmse:.2f}\")\n"
   ]
  },
  {
   "cell_type": "markdown",
   "id": "4b2ce2d6",
   "metadata": {},
   "source": [
    "## Clustering\n",
    "We run k-means on numeric features and inspect cluster sizes.\n"
   ]
  },
  {
   "cell_type": "code",
   "execution_count": null,
   "id": "21f0f860",
   "metadata": {
    "vscode": {
     "languageId": "plaintext"
    }
   },
   "outputs": [],
   "source": [
    "numeric = an.df.select_dtypes(include=['number'])\n",
    "from sklearn.preprocessing import StandardScaler\n",
    "ns = StandardScaler()\n",
    "X_num = ns.fit_transform(numeric)\n",
    "cl = Clustering()\n",
    "cl.fit(X_num, model_name=\"kmeans\", n_clusters=4)\n",
    "labels = cl.model.labels_\n",
    "import pandas as pd\n",
    "print(\"Cluster sizes:\\n\", pd.Series(labels).value_counts())\n"
   ]
  },
  {
   "cell_type": "markdown",
   "id": "0d8e1397",
   "metadata": {},
   "source": [
    "## Save models & final notes\n",
    "- Saved plots are in `outputs/plots/`\n",
    "- For full submission, push the repository to GitHub and include this executed notebook (with outputs).\n"
   ]
  },
  {
   "cell_type": "code",
   "execution_count": null,
   "id": "adf90e6e",
   "metadata": {
    "vscode": {
     "languageId": "plaintext"
    }
   },
   "outputs": [],
   "source": []
  },
  {
   "cell_type": "code",
   "execution_count": null,
   "id": "f1278066",
   "metadata": {
    "vscode": {
     "languageId": "plaintext"
    }
   },
   "outputs": [],
   "source": []
  }
 ],
 "metadata": {
  "language_info": {
   "name": "python"
  }
 },
 "nbformat": 4,
 "nbformat_minor": 5
}
